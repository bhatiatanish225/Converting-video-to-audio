{
  "nbformat": 4,
  "nbformat_minor": 0,
  "metadata": {
    "colab": {
      "provenance": [],
      "authorship_tag": "ABX9TyMIz0xNaOZbEAFJ8snqnUkN",
      "include_colab_link": true
    },
    "kernelspec": {
      "name": "python3",
      "display_name": "Python 3"
    },
    "language_info": {
      "name": "python"
    }
  },
  "cells": [
    {
      "cell_type": "markdown",
      "metadata": {
        "id": "view-in-github",
        "colab_type": "text"
      },
      "source": [
        "<a href=\"https://colab.research.google.com/github/bhatiatanish225/Converting-video-to-audio/blob/main/Video_to_Audio_Conversion.ipynb\" target=\"_parent\"><img src=\"https://colab.research.google.com/assets/colab-badge.svg\" alt=\"Open In Colab\"/></a>"
      ]
    },
    {
      "cell_type": "code",
      "execution_count": 1,
      "metadata": {
        "colab": {
          "base_uri": "https://localhost:8080/"
        },
        "id": "XQfj6WGBGNl-",
        "outputId": "f45886a8-d85a-4276-80af-3924a3475a32"
      },
      "outputs": [
        {
          "output_type": "stream",
          "name": "stdout",
          "text": [
            "Looking in indexes: https://pypi.org/simple, https://us-python.pkg.dev/colab-wheels/public/simple/\n",
            "Collecting video2audio\n",
            "  Downloading video2audio-2023.1.14-py3-none-any.whl (7.4 kB)\n",
            "Installing collected packages: video2audio\n",
            "Successfully installed video2audio-2023.1.14\n"
          ]
        }
      ],
      "source": [
        "!pip3 install video2audio # installing the packages"
      ]
    },
    {
      "cell_type": "code",
      "source": [
        "from video2audio import AVFile # importing the libraries"
      ],
      "metadata": {
        "id": "mYsKx7sdGiXI"
      },
      "execution_count": 2,
      "outputs": []
    },
    {
      "cell_type": "code",
      "source": [
        "f=AVFile('/content/WhatsApp Video 2023-06-16 at 13.02.47.mp4') # give the path of the video and store it into the the variable f"
      ],
      "metadata": {
        "id": "BxPMrQ8WGtqR"
      },
      "execution_count": 3,
      "outputs": []
    },
    {
      "cell_type": "code",
      "source": [
        "f.extract_audio('/content/new/audio_only.mp3',chapter=None)# extract the audio from the video , give the path where want to store it and also give the name of filw with which we want to save the audio file"
      ],
      "metadata": {
        "id": "WakuCq4QIERp"
      },
      "execution_count": 5,
      "outputs": []
    }
  ]
}